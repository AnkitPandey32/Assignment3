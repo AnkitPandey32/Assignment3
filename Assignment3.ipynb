{
 "cells": [
  {
   "cell_type": "code",
   "execution_count": null,
   "id": "c96b490e-a668-410d-9ada-d24a4880c48c",
   "metadata": {},
   "outputs": [],
   "source": [
    "Q1. Which keyword is used to create a function? Create a function to return a list of odd numbers in the \n",
    "range of 1 to 25."
   ]
  },
  {
   "cell_type": "code",
   "execution_count": 11,
   "id": "d79d7f94-2dd9-4f65-bbfa-955280f85b25",
   "metadata": {},
   "outputs": [],
   "source": [
    "def get_odd_numbers():\n",
    "    odd_numbers = []\n",
    "    for num in range(1, 26):\n",
    "        if num % 2 != 0:\n",
    "            odd_numbers.append(num)\n",
    "    return odd_numbers"
   ]
  },
  {
   "cell_type": "code",
   "execution_count": 12,
   "id": "42451899-2b4d-47e1-9ede-17b5e8789bec",
   "metadata": {},
   "outputs": [
    {
     "name": "stdout",
     "output_type": "stream",
     "text": [
      "[1, 3, 5, 7, 9, 11, 13, 15, 17, 19, 21, 23, 25]\n"
     ]
    }
   ],
   "source": [
    "result = get_odd_numbers()\n",
    "print(result)"
   ]
  },
  {
   "cell_type": "code",
   "execution_count": null,
   "id": "d51b8715-6f4d-45b7-a867-b140b2d775ee",
   "metadata": {},
   "outputs": [],
   "source": [
    "Q2. Why *args and **kwargs is used in some functions? Create a function each for *args and **kwargs \n",
    "to demonstrate their use."
   ]
  },
  {
   "cell_type": "code",
   "execution_count": null,
   "id": "244a90a5-4d4e-4715-8da8-69cbebc57301",
   "metadata": {},
   "outputs": [],
   "source": [
    "In Python, *args and **kwargs are used in function definitions to allow the passing of a \n",
    "variable number of arguments to the function."
   ]
  },
  {
   "cell_type": "code",
   "execution_count": 3,
   "id": "50ddb67b-f381-44f5-8493-590b7a5eb351",
   "metadata": {},
   "outputs": [],
   "source": [
    "def print_arguments(*args):\n",
    "    for arg in args:\n",
    "        print(arg)"
   ]
  },
  {
   "cell_type": "code",
   "execution_count": 4,
   "id": "d9c1ea05-d9cb-4481-a6a1-9f73a0616a12",
   "metadata": {},
   "outputs": [
    {
     "name": "stdout",
     "output_type": "stream",
     "text": [
      "1\n",
      "2\n",
      "3\n"
     ]
    }
   ],
   "source": [
    "print_arguments(1, 2, 3)"
   ]
  },
  {
   "cell_type": "code",
   "execution_count": 5,
   "id": "65679da8-2dd9-46f0-8b55-d69789772397",
   "metadata": {},
   "outputs": [
    {
     "name": "stdout",
     "output_type": "stream",
     "text": [
      "Hello\n",
      "World\n"
     ]
    }
   ],
   "source": [
    "print_arguments('Hello', 'World')\n"
   ]
  },
  {
   "cell_type": "code",
   "execution_count": 6,
   "id": "b20271b8-2ff5-4fcc-b131-575ffa4dc8b5",
   "metadata": {},
   "outputs": [],
   "source": [
    "def print_keyword_arguments(**kwargs):\n",
    "    for key, value in kwargs.items():\n",
    "        print(f\"{key}: {value}\")"
   ]
  },
  {
   "cell_type": "code",
   "execution_count": 7,
   "id": "dbbce3c4-8d78-42ea-a8da-36d401e0f304",
   "metadata": {},
   "outputs": [
    {
     "name": "stdout",
     "output_type": "stream",
     "text": [
      "name: John\n",
      "age: 25\n"
     ]
    }
   ],
   "source": [
    "print_keyword_arguments(name='John', age=25)\n"
   ]
  },
  {
   "cell_type": "code",
   "execution_count": null,
   "id": "f3711a18-af2f-45e4-9dbf-10801b27f0ee",
   "metadata": {},
   "outputs": [],
   "source": [
    "Q3.  What is an iterator in python? Name the method used to initialise the iterator object and the method \n",
    "used for iteration. Use these methods to print the first five elements of the given list [2, 4, 6, 8, 10, 12, 14, \n",
    "16, 18, 20]."
   ]
  },
  {
   "cell_type": "code",
   "execution_count": null,
   "id": "a5a75546-affe-44b8-83db-073bd685b6cc",
   "metadata": {},
   "outputs": [],
   "source": [
    "In Python, an iterator is an object that implements the iterator protocol, which consists of \n",
    "two methods: __iter__() and __next__(). Iterators are used to iterate over a sequence \n",
    "of elements or values one at a time, enabling the traversal of items in a container, such as a \n",
    "list or a string, without the need to know the specific details of the underlying implementation."
   ]
  },
  {
   "cell_type": "code",
   "execution_count": null,
   "id": "42663d95-e10c-4eae-9ab5-a60d3d812c6d",
   "metadata": {},
   "outputs": [],
   "source": [
    "The __iter__() method is used to initialize the iterator object and return itself. It is called when the iterator is created or reset. This method should return the iterator object."
   ]
  },
  {
   "cell_type": "code",
   "execution_count": null,
   "id": "dd72363e-d89e-43eb-bddf-0bded899e3cc",
   "metadata": {},
   "outputs": [],
   "source": [
    "The __next__() method is used to fetch the next element from the iterator. It is called each time the next element is requested. This method should return the next item in the sequence. If there are no more items, it should raise the StopIteration exception."
   ]
  },
  {
   "cell_type": "code",
   "execution_count": 10,
   "id": "280ae17b-3389-453f-838a-b23d6c93540d",
   "metadata": {},
   "outputs": [],
   "source": [
    "class MyIterator:\n",
    "    def __init__(self, data):\n",
    "        self.data = data\n",
    "        self.index = 0\n",
    "\n",
    "    def __iter__(self):\n",
    "        return self\n",
    "\n",
    "    def __next__(self):\n",
    "        if self.index >= len(self.data):\n",
    "            raise StopIteration\n",
    "        value = self.data[self.index]\n",
    "        self.index += 1\n",
    "        return value"
   ]
  },
  {
   "cell_type": "code",
   "execution_count": 11,
   "id": "3ea432ad-66a2-4e85-b92e-2b6573bfbe08",
   "metadata": {},
   "outputs": [],
   "source": [
    "my_iterator = MyIterator([2, 4, 6, 8, 10, 12, 14, 16, 18, 20])\n"
   ]
  },
  {
   "cell_type": "code",
   "execution_count": 12,
   "id": "b29f0671-3cf6-455d-8ed6-901cf221a681",
   "metadata": {},
   "outputs": [
    {
     "name": "stdout",
     "output_type": "stream",
     "text": [
      "2\n",
      "4\n",
      "6\n",
      "8\n",
      "10\n"
     ]
    }
   ],
   "source": [
    "for _ in range(5):\n",
    "    print(next(my_iterator))"
   ]
  },
  {
   "cell_type": "code",
   "execution_count": null,
   "id": "ddbb4eba-e8ab-4440-b07e-50c7eb4b7d1c",
   "metadata": {},
   "outputs": [],
   "source": [
    "Q4.  What is a generator function in python? Why yield keyword is used? Give an example of a generator \n",
    "function."
   ]
  },
  {
   "cell_type": "code",
   "execution_count": null,
   "id": "324b8f28-c23f-464d-a5d3-5b5e14b9706c",
   "metadata": {},
   "outputs": [],
   "source": [
    "In Python, a generator function is a special type of function that generates a sequence of values using the yield keyword. It allows you to define an iterator in a more concise and efficient way compared to writing a custom iterator class."
   ]
  },
  {
   "cell_type": "code",
   "execution_count": null,
   "id": "bb918196-fb86-4865-af23-cc62f2294db3",
   "metadata": {},
   "outputs": [],
   "source": [
    "The yield keyword is used in generator functions to define points at which the function should yield a value. It allows the generator to produce a series of values one at a time, lazily, and efficiently."
   ]
  },
  {
   "cell_type": "code",
   "execution_count": 13,
   "id": "6d7064b7-5955-4b58-9d42-63cfe028fd98",
   "metadata": {},
   "outputs": [],
   "source": [
    "def even_numbers(limit):\n",
    "    num = 0\n",
    "    while num < limit:\n",
    "        yield num\n",
    "        num += 2\n"
   ]
  },
  {
   "cell_type": "code",
   "execution_count": 14,
   "id": "cf1c6660-341e-4cec-897c-0a955d507664",
   "metadata": {},
   "outputs": [
    {
     "name": "stdout",
     "output_type": "stream",
     "text": [
      "0\n",
      "2\n",
      "4\n",
      "6\n",
      "8\n"
     ]
    }
   ],
   "source": [
    "for even_num in even_numbers(10):\n",
    "    print(even_num)"
   ]
  },
  {
   "cell_type": "code",
   "execution_count": null,
   "id": "7e5827a3-246b-44ca-b943-4a7fd7393ade",
   "metadata": {},
   "outputs": [],
   "source": [
    "Q5. Create a generator function for prime numbers less than 1000. Use the next() method to print the \n",
    "first 20 prime numbers."
   ]
  },
  {
   "cell_type": "code",
   "execution_count": 15,
   "id": "54fa0081-3540-47b6-937f-cdcfbea5253c",
   "metadata": {},
   "outputs": [],
   "source": [
    "def generate_primes():\n",
    "    primes = []\n",
    "    num = 2\n",
    "    while num < 1000:\n",
    "        is_prime = True\n",
    "        for prime in primes:\n",
    "            if num % prime == 0:\n",
    "                is_prime = False\n",
    "                break\n",
    "        if is_prime:\n",
    "            primes.append(num)\n",
    "            yield num\n",
    "        num += 1"
   ]
  },
  {
   "cell_type": "code",
   "execution_count": 16,
   "id": "daa736b1-1afc-43ad-b414-0ba33516e74f",
   "metadata": {},
   "outputs": [],
   "source": [
    "prime_generator = generate_primes()\n"
   ]
  },
  {
   "cell_type": "code",
   "execution_count": 17,
   "id": "e3fe255c-d292-426e-9fc4-827111d6dbe8",
   "metadata": {},
   "outputs": [
    {
     "name": "stdout",
     "output_type": "stream",
     "text": [
      "2\n",
      "3\n",
      "5\n",
      "7\n",
      "11\n",
      "13\n",
      "17\n",
      "19\n",
      "23\n",
      "29\n",
      "31\n",
      "37\n",
      "41\n",
      "43\n",
      "47\n",
      "53\n",
      "59\n",
      "61\n",
      "67\n",
      "71\n"
     ]
    }
   ],
   "source": [
    "for _ in range(20):\n",
    "    print(next(prime_generator))"
   ]
  },
  {
   "cell_type": "code",
   "execution_count": null,
   "id": "7a50b7a1-a17a-4768-ab6c-68bf5c068adb",
   "metadata": {},
   "outputs": [],
   "source": [
    "Q6. Write a python program to print the first 10 Fibonacci numbers using a while loop."
   ]
  },
  {
   "cell_type": "code",
   "execution_count": 18,
   "id": "5a174314-eedd-43c8-b9bc-42e068a79057",
   "metadata": {},
   "outputs": [
    {
     "name": "stdout",
     "output_type": "stream",
     "text": [
      "0\n",
      "1\n",
      "1\n",
      "2\n",
      "3\n",
      "5\n",
      "8\n",
      "13\n",
      "21\n",
      "34\n"
     ]
    }
   ],
   "source": [
    "a = 0\n",
    "b = 1\n",
    "count = 0\n",
    "\n",
    "while count < 10:\n",
    "    print(a)\n",
    "    temp = a\n",
    "    a = b\n",
    "    b = temp + b\n",
    "    count += 1"
   ]
  },
  {
   "cell_type": "code",
   "execution_count": null,
   "id": "462b9a53-ed5f-44db-8155-ff2baa374932",
   "metadata": {},
   "outputs": [],
   "source": [
    "Q7. Write a List Comprehension to iterate through the given string: ‘pwskills’.\n",
    "\n",
    "Expected output: ['p', 'w', 's', 'k', 'i', 'l', 'l', 's']"
   ]
  },
  {
   "cell_type": "code",
   "execution_count": 19,
   "id": "4487f411-1820-433d-b96c-5d065151c778",
   "metadata": {},
   "outputs": [
    {
     "name": "stdout",
     "output_type": "stream",
     "text": [
      "['p', 'w', 's', 'k', 'i', 'l', 'l', 's']\n"
     ]
    }
   ],
   "source": [
    "string = 'pwskills'\n",
    "output = [char for char in string if char in 'pwskills']\n",
    "\n",
    "print(output)"
   ]
  },
  {
   "cell_type": "code",
   "execution_count": null,
   "id": "5713748a-ebcd-4d1f-92f6-0e3b27d3b36d",
   "metadata": {},
   "outputs": [],
   "source": []
  }
 ],
 "metadata": {
  "kernelspec": {
   "display_name": "Python 3 (ipykernel)",
   "language": "python",
   "name": "python3"
  },
  "language_info": {
   "codemirror_mode": {
    "name": "ipython",
    "version": 3
   },
   "file_extension": ".py",
   "mimetype": "text/x-python",
   "name": "python",
   "nbconvert_exporter": "python",
   "pygments_lexer": "ipython3",
   "version": "3.10.8"
  }
 },
 "nbformat": 4,
 "nbformat_minor": 5
}
